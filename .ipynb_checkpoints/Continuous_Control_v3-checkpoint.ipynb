{
 "cells": [
  {
   "cell_type": "markdown",
   "metadata": {},
   "source": [
    "# Continuous Control\n",
    "\n",
    "---\n",
    "\n",
    "In this notebook, you will learn how to use the Unity ML-Agents environment for the second project of the [Deep Reinforcement Learning Nanodegree](https://www.udacity.com/course/deep-reinforcement-learning-nanodegree--nd893) program.\n",
    "\n",
    "### 1. Start the Environment\n",
    "\n",
    "We begin by importing the necessary packages.  If the code cell below returns an error, please revisit the project instructions to double-check that you have installed [Unity ML-Agents](https://github.com/Unity-Technologies/ml-agents/blob/master/docs/Installation.md) and [NumPy](http://www.numpy.org/)."
   ]
  },
  {
   "cell_type": "code",
   "execution_count": 1,
   "metadata": {},
   "outputs": [],
   "source": [
    "from unityagents import UnityEnvironment\n",
    "import matplotlib.pyplot as plt\n",
    "import numpy as np\n",
    "import random\n",
    "import torch\n",
    "from ddpg_agent import Agent\n",
    "from collections import deque\n",
    "%matplotlib inline"
   ]
  },
  {
   "cell_type": "code",
   "execution_count": 2,
   "metadata": {
    "scrolled": true
   },
   "outputs": [
    {
     "name": "stderr",
     "output_type": "stream",
     "text": [
      "INFO:unityagents:\n",
      "'Academy' started successfully!\n",
      "Unity Academy name: Academy\n",
      "        Number of Brains: 1\n",
      "        Number of External Brains : 1\n",
      "        Lesson number : 0\n",
      "        Reset Parameters :\n",
      "\t\tgoal_speed -> 1.0\n",
      "\t\tgoal_size -> 5.0\n",
      "Unity brain name: ReacherBrain\n",
      "        Number of Visual Observations (per agent): 0\n",
      "        Vector Observation space type: continuous\n",
      "        Vector Observation space size (per agent): 33\n",
      "        Number of stacked Vector Observation: 1\n",
      "        Vector Action space type: continuous\n",
      "        Vector Action space size (per agent): 4\n",
      "        Vector Action descriptions: , , , \n"
     ]
    }
   ],
   "source": [
    "env = UnityEnvironment(file_name='Reacher_Linux/Reacher.x86_64')"
   ]
  },
  {
   "cell_type": "markdown",
   "metadata": {},
   "source": [
    "Environments contain **_brains_** which are responsible for deciding the actions of their associated agents. Here we check for the first brain available, and set it as the default brain we will be controlling from Python."
   ]
  },
  {
   "cell_type": "code",
   "execution_count": 3,
   "metadata": {},
   "outputs": [],
   "source": [
    "# get the default brain\n",
    "brain_name = env.brain_names[0]\n",
    "brain = env.brains[brain_name]"
   ]
  },
  {
   "cell_type": "markdown",
   "metadata": {},
   "source": [
    "### 2. Examine the State and Action Spaces\n",
    "\n",
    "In this environment, a double-jointed arm can move to target locations. A reward of `+0.1` is provided for each step that the agent's hand is in the goal location. Thus, the goal of your agent is to maintain its position at the target location for as many time steps as possible.\n",
    "\n",
    "The observation space consists of `33` variables corresponding to position, rotation, velocity, and angular velocities of the arm.  Each action is a vector with four numbers, corresponding to torque applicable to two joints.  Every entry in the action vector must be a number between `-1` and `1`.\n",
    "\n",
    "Run the code cell below to print some information about the environment."
   ]
  },
  {
   "cell_type": "code",
   "execution_count": 4,
   "metadata": {},
   "outputs": [
    {
     "name": "stdout",
     "output_type": "stream",
     "text": [
      "Number of agents: 20\n",
      "Size of each action: 4\n",
      "There are 20 agents. Each observes a state with length: 33\n",
      "The state for the first agent looks like: [ 0.00000000e+00 -4.00000000e+00  0.00000000e+00  1.00000000e+00\n",
      " -0.00000000e+00 -0.00000000e+00 -4.37113883e-08  0.00000000e+00\n",
      "  0.00000000e+00  0.00000000e+00  0.00000000e+00  0.00000000e+00\n",
      "  0.00000000e+00  0.00000000e+00 -1.00000000e+01  0.00000000e+00\n",
      "  1.00000000e+00 -0.00000000e+00 -0.00000000e+00 -4.37113883e-08\n",
      "  0.00000000e+00  0.00000000e+00  0.00000000e+00  0.00000000e+00\n",
      "  0.00000000e+00  0.00000000e+00  5.75471878e+00 -1.00000000e+00\n",
      "  5.55726624e+00  0.00000000e+00  1.00000000e+00  0.00000000e+00\n",
      " -1.68164849e-01]\n"
     ]
    }
   ],
   "source": [
    "# reset the environment\n",
    "env_info = env.reset(train_mode=True)[brain_name]\n",
    "\n",
    "# number of agents\n",
    "num_agents = len(env_info.agents)\n",
    "print('Number of agents:', num_agents)\n",
    "\n",
    "# size of each action\n",
    "action_size = brain.vector_action_space_size\n",
    "print('Size of each action:', action_size)\n",
    "\n",
    "# examine the state space \n",
    "states = env_info.vector_observations\n",
    "state_size = states.shape[1]\n",
    "print('There are {} agents. Each observes a state with length: {}'.format(states.shape[0], state_size))\n",
    "print('The state for the first agent looks like:', states[0])"
   ]
  },
  {
   "cell_type": "code",
   "execution_count": 5,
   "metadata": {},
   "outputs": [],
   "source": [
    "def ddpg(n_episodes=500, max_t=1000, print_every=1, train_mode=True):\n",
    "    \"\"\"Deep Deterministic Policy Gradient (DDPG)\n",
    "    \n",
    "    Params\n",
    "    ======\n",
    "        n_episodes (int)      : maximum number of training episodes\n",
    "        max_t (int)           : maximum number of timesteps per episode\n",
    "        print_every (int)     : interval to display results\n",
    "\n",
    "    \"\"\"\n",
    "    mean_scores = []                               # list of mean scores from each episode\n",
    "    min_scores = []                                # list of lowest scores from each episode\n",
    "    max_scores = []                                # list of highest scores from each episode\n",
    "    scores_window = deque(maxlen=100)              # mean scores from last 100 episodes\n",
    "    \n",
    "    for i_episode in range(1, n_episodes+1):\n",
    "        env_info = env.reset(train_mode=train_mode)[brain_name] # reset environment\n",
    "        states = env_info.vector_observations                   # get current state for each agent      \n",
    "        scores = np.zeros(num_agents)                           # initialize score for each agent\n",
    "        agent.reset()\n",
    "\n",
    "        for t in range(max_t):\n",
    "            actions = agent.act(states, add_noise=True)         # select an action\n",
    "            env_info = env.step(actions)[brain_name]            # send actions to environment\n",
    "            next_states = env_info.vector_observations          # get next state\n",
    "            rewards = env_info.rewards                          # get reward\n",
    "            dones = env_info.local_done                         # see if episode has finished\n",
    "            \n",
    "            for state, action, reward, next_state, done in zip(states, actions, rewards, next_states, dones):\n",
    "                agent.step(state, action, reward, next_state, done, t)     \n",
    "                \n",
    "            states = next_states\n",
    "            scores += rewards        \n",
    "            if np.any(dones):                                   # exit loop when episode ends\n",
    "                break\n",
    "\n",
    "        min_scores.append(np.min(scores))             # save lowest score for a single agent\n",
    "        max_scores.append(np.max(scores))             # save highest score for a single agent        \n",
    "        mean_scores.append(np.mean(scores))           # save mean score for the episode\n",
    "        scores_window.append(mean_scores[-1])         # save mean score to window\n",
    "                \n",
    "        if i_episode % print_every == 0:\n",
    "            print('\\rEpisode {}  \\tMin: {:.1f}\\tMax: {:.1f}\\tMean: {:.1f}'.format(\\\n",
    "                  i_episode, min_scores[-1], max_scores[-1], mean_scores[-1]))\n",
    "                  \n",
    "        if np.mean(scores_window) >= 30:\n",
    "            print('\\nEnvironment SOLVED in {} episodes!\\tMean Score ={:.1f}'.format(\\\n",
    "            i_episode, mean_scores[-1]))            \n",
    "            if train_mode:\n",
    "                torch.save(agent.actor_local.state_dict(), 'checkpoint_actor.pth')\n",
    "                torch.save(agent.critic_local.state_dict(), 'checkpoint_critic.pth') \n",
    "            break\n",
    "            \n",
    "    return mean_scores"
   ]
  },
  {
   "cell_type": "code",
   "execution_count": 6,
   "metadata": {},
   "outputs": [
    {
     "name": "stdout",
     "output_type": "stream",
     "text": [
      "Episode 1  \tMin: 0.2\tMax: 1.8\tMean: 0.7\n",
      "Episode 2  \tMin: 0.3\tMax: 2.9\tMean: 1.5\n",
      "Episode 3  \tMin: 0.2\tMax: 3.3\tMean: 1.8\n",
      "Episode 4  \tMin: 1.8\tMax: 4.8\tMean: 3.2\n",
      "Episode 5  \tMin: 2.0\tMax: 7.2\tMean: 3.9\n",
      "Episode 6  \tMin: 1.3\tMax: 5.5\tMean: 3.5\n",
      "Episode 7  \tMin: 2.7\tMax: 9.3\tMean: 5.2\n",
      "Episode 8  \tMin: 2.5\tMax: 9.8\tMean: 5.3\n",
      "Episode 9  \tMin: 4.5\tMax: 9.8\tMean: 7.1\n",
      "Episode 10  \tMin: 4.0\tMax: 12.6\tMean: 8.6\n",
      "Episode 11  \tMin: 6.7\tMax: 17.7\tMean: 10.1\n",
      "Episode 12  \tMin: 1.1\tMax: 17.4\tMean: 10.9\n",
      "Episode 13  \tMin: 2.3\tMax: 15.5\tMean: 9.6\n",
      "Episode 14  \tMin: 6.6\tMax: 18.6\tMean: 11.9\n",
      "Episode 15  \tMin: 9.5\tMax: 19.2\tMean: 15.0\n",
      "Episode 16  \tMin: 7.1\tMax: 18.6\tMean: 14.0\n",
      "Episode 17  \tMin: 11.4\tMax: 24.9\tMean: 18.3\n",
      "Episode 18  \tMin: 11.0\tMax: 22.7\tMean: 17.9\n",
      "Episode 19  \tMin: 9.8\tMax: 28.2\tMean: 18.4\n",
      "Episode 20  \tMin: 11.4\tMax: 26.2\tMean: 18.3\n",
      "Episode 21  \tMin: 10.1\tMax: 29.5\tMean: 21.3\n",
      "Episode 22  \tMin: 10.5\tMax: 27.1\tMean: 19.1\n",
      "Episode 23  \tMin: 14.1\tMax: 35.4\tMean: 23.1\n",
      "Episode 24  \tMin: 8.8\tMax: 26.8\tMean: 20.3\n",
      "Episode 25  \tMin: 11.6\tMax: 31.0\tMean: 23.4\n",
      "Episode 26  \tMin: 14.9\tMax: 33.9\tMean: 25.1\n",
      "Episode 27  \tMin: 12.1\tMax: 34.0\tMean: 25.9\n",
      "Episode 28  \tMin: 18.8\tMax: 34.4\tMean: 28.7\n",
      "Episode 29  \tMin: 23.7\tMax: 34.7\tMean: 29.8\n",
      "Episode 30  \tMin: 14.9\tMax: 35.2\tMean: 27.8\n",
      "Episode 31  \tMin: 15.3\tMax: 35.4\tMean: 29.5\n",
      "Episode 32  \tMin: 25.4\tMax: 37.9\tMean: 32.7\n",
      "Episode 33  \tMin: 17.8\tMax: 36.0\tMean: 31.5\n",
      "Episode 34  \tMin: 30.3\tMax: 35.7\tMean: 33.5\n",
      "Episode 35  \tMin: 31.1\tMax: 37.2\tMean: 34.1\n",
      "Episode 36  \tMin: 32.6\tMax: 38.7\tMean: 36.7\n",
      "Episode 37  \tMin: 32.7\tMax: 38.5\tMean: 36.3\n",
      "Episode 38  \tMin: 32.1\tMax: 38.8\tMean: 37.1\n",
      "Episode 39  \tMin: 33.8\tMax: 39.3\tMean: 37.3\n",
      "Episode 40  \tMin: 32.0\tMax: 39.5\tMean: 37.6\n",
      "Episode 41  \tMin: 36.1\tMax: 39.1\tMean: 37.9\n",
      "Episode 42  \tMin: 32.5\tMax: 39.4\tMean: 36.8\n",
      "Episode 43  \tMin: 34.0\tMax: 39.6\tMean: 38.1\n",
      "Episode 44  \tMin: 34.8\tMax: 39.4\tMean: 37.3\n",
      "Episode 45  \tMin: 35.2\tMax: 39.4\tMean: 37.8\n",
      "Episode 46  \tMin: 32.3\tMax: 39.5\tMean: 38.2\n",
      "Episode 47  \tMin: 36.6\tMax: 39.4\tMean: 38.5\n",
      "Episode 48  \tMin: 36.5\tMax: 39.5\tMean: 38.6\n",
      "Episode 49  \tMin: 36.3\tMax: 39.5\tMean: 38.4\n",
      "Episode 50  \tMin: 36.3\tMax: 39.4\tMean: 38.6\n",
      "Episode 51  \tMin: 37.3\tMax: 39.5\tMean: 38.6\n",
      "Episode 52  \tMin: 38.6\tMax: 39.6\tMean: 39.3\n",
      "Episode 53  \tMin: 38.2\tMax: 39.6\tMean: 39.2\n",
      "Episode 54  \tMin: 36.7\tMax: 39.6\tMean: 38.8\n",
      "Episode 55  \tMin: 37.2\tMax: 39.6\tMean: 39.1\n",
      "Episode 56  \tMin: 37.7\tMax: 39.6\tMean: 39.1\n",
      "Episode 57  \tMin: 37.4\tMax: 39.6\tMean: 38.9\n",
      "Episode 58  \tMin: 37.6\tMax: 39.6\tMean: 39.1\n",
      "Episode 59  \tMin: 38.1\tMax: 39.7\tMean: 39.2\n",
      "Episode 60  \tMin: 39.0\tMax: 39.6\tMean: 39.4\n",
      "Episode 61  \tMin: 37.8\tMax: 39.6\tMean: 39.2\n",
      "Episode 62  \tMin: 24.8\tMax: 39.6\tMean: 38.4\n",
      "Episode 63  \tMin: 35.9\tMax: 39.7\tMean: 38.7\n",
      "Episode 64  \tMin: 37.4\tMax: 39.6\tMean: 38.9\n",
      "Episode 65  \tMin: 37.0\tMax: 39.7\tMean: 39.1\n",
      "Episode 66  \tMin: 37.8\tMax: 39.6\tMean: 39.3\n",
      "Episode 67  \tMin: 38.3\tMax: 39.6\tMean: 39.3\n",
      "Episode 68  \tMin: 38.1\tMax: 39.7\tMean: 39.2\n",
      "Episode 69  \tMin: 35.1\tMax: 39.6\tMean: 39.0\n",
      "Episode 70  \tMin: 36.2\tMax: 39.6\tMean: 38.9\n",
      "Episode 71  \tMin: 38.3\tMax: 39.5\tMean: 39.2\n",
      "Episode 72  \tMin: 15.9\tMax: 39.5\tMean: 37.6\n",
      "Episode 73  \tMin: 37.5\tMax: 39.6\tMean: 39.2\n",
      "Episode 74  \tMin: 37.9\tMax: 39.7\tMean: 39.0\n",
      "Episode 75  \tMin: 38.7\tMax: 39.6\tMean: 39.2\n",
      "Episode 76  \tMin: 38.6\tMax: 39.6\tMean: 39.2\n",
      "Episode 77  \tMin: 36.2\tMax: 39.7\tMean: 38.7\n",
      "Episode 78  \tMin: 34.7\tMax: 39.7\tMean: 38.1\n",
      "Episode 79  \tMin: 35.5\tMax: 39.2\tMean: 38.1\n",
      "Episode 80  \tMin: 34.0\tMax: 39.6\tMean: 37.2\n",
      "Episode 81  \tMin: 34.2\tMax: 39.7\tMean: 37.8\n",
      "Episode 82  \tMin: 34.3\tMax: 39.0\tMean: 37.5\n",
      "Episode 83  \tMin: 34.0\tMax: 39.3\tMean: 37.4\n",
      "Episode 84  \tMin: 33.2\tMax: 39.5\tMean: 37.8\n",
      "Episode 85  \tMin: 31.7\tMax: 39.4\tMean: 37.7\n",
      "Episode 86  \tMin: 33.7\tMax: 39.6\tMean: 37.7\n",
      "Episode 87  \tMin: 30.6\tMax: 39.6\tMean: 37.5\n",
      "Episode 88  \tMin: 36.3\tMax: 39.6\tMean: 38.6\n",
      "Episode 89  \tMin: 34.0\tMax: 39.6\tMean: 37.4\n",
      "Episode 90  \tMin: 34.4\tMax: 39.5\tMean: 38.4\n",
      "\n",
      "Environment SOLVED in 90 episodes!\tMean Score =38.4\n"
     ]
    }
   ],
   "source": [
    "agent = Agent(state_size=state_size, action_size=action_size, random_seed=1)\n",
    "scores = ddpg()"
   ]
  },
  {
   "cell_type": "code",
   "execution_count": 8,
   "metadata": {},
   "outputs": [
    {
     "data": {
      "image/png": "[encoded data removed]",
      "text/plain": [
       "<Figure size 432x288 with 1 Axes>"
      ]
     },
     "metadata": {
      "needs_background": "light"
     },
     "output_type": "display_data"
    }
   ],
   "source": [
    "# plot the scores\n",
    "fig = plt.figure()\n",
    "ax = fig.add_subplot(111)\n",
    "plt.plot(np.arange(1, len(scores)+1), scores)\n",
    "plt.ylabel('Mean Score')\n",
    "plt.xlabel('Episode #')\n",
    "plt.show()"
   ]
  },
  {
   "cell_type": "code",
   "execution_count": null,
   "metadata": {},
   "outputs": [],
   "source": []
  }
 ],
 "metadata": {
  "kernelspec": {
   "display_name": "drlnd",
   "language": "python",
   "name": "drlnd"
  },
  "language_info": {
   "codemirror_mode": {
    "name": "ipython",
    "version": 3
   },
   "file_extension": ".py",
   "mimetype": "text/x-python",
   "name": "python",
   "nbconvert_exporter": "python",
   "pygments_lexer": "ipython3",
   "version": "3.6.9"
  }
 },
 "nbformat": 4,
 "nbformat_minor": 2
}
